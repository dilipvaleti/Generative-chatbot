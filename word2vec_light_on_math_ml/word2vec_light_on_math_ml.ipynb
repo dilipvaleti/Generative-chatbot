{
 "cells": [
  {
   "cell_type": "markdown",
   "metadata": {},
   "source": [
    "# Light on Math Machine Learning: Word2vec"
   ]
  },
  {
   "cell_type": "code",
   "execution_count": 1,
   "metadata": {},
   "outputs": [
    {
     "name": "stderr",
     "output_type": "stream",
     "text": [
      "c:\\users\\thushan\\documents\\python_virtualenvs\\tensorflow_venv\\lib\\site-packages\\h5py\\__init__.py:36: FutureWarning: Conversion of the second argument of issubdtype from `float` to `np.floating` is deprecated. In future, it will be treated as `np.float64 == np.dtype(float).type`.\n",
      "  from ._conv import register_converters as _register_converters\n"
     ]
    }
   ],
   "source": [
    "# These are all the modules we'll be using later. Make sure you can import them\n",
    "# before proceeding further.\n",
    "%matplotlib inline\n",
    "import collections\n",
    "import math\n",
    "import numpy as np\n",
    "import os\n",
    "import tensorflow as tf\n",
    "from matplotlib import pylab\n",
    "from sklearn.manifold import TSNE\n",
    "import operator # sorting items in dictionary by value\n",
    "from math import ceil\n"
   ]
  },
  {
   "cell_type": "markdown",
   "metadata": {},
   "source": [
    "## Reading data\n",
    "Here we have a file called `pets.txt` which is an extracted and slightly edited (e.g. removing reference numbers) Wikipedia article found [here](https://en.wikipedia.org/wiki/Pet). We will be reading that file, doing simple preprocessing and tokenizing the text into words."
   ]
  },
  {
   "cell_type": "code",
   "execution_count": 33,
   "metadata": {},
   "outputs": [
    {
     "name": "stdout",
     "output_type": "stream",
     "text": [
      "Data size 24003\n",
      "Example words (start):  ['', 'a', 'tabby', 'cat', 'and', 'a', 'mixed', 'molosser', 'dog', 'a']\n",
      "Example words (end):  ['be', 'injured', 'or', 'killed', 'by', 'a', 'high', 'fall', '282', '']\n"
     ]
    }
   ],
   "source": [
    "def preprocess_text(text):\n",
    "    text = text.lower()\n",
    "    text = text.replace('.',' ')\n",
    "    text = text.replace(',',' ')\n",
    "    text = text.replace('-',' ')\n",
    "    text = text.replace('%','')\n",
    "    text = text.replace(':',' ')\n",
    "    text = text.replace('(','')\n",
    "    text = text.replace(')','')\n",
    "    text = text.replace('\\n',' ')\n",
    "    text = text.replace('[',' ')\n",
    "    text = text.replace(']',' ')\n",
    "    text = text.replace('\"',' ')\n",
    "    text = text.replace('  ',' ')\n",
    "    \n",
    "    return text\n",
    "\n",
    "def read_data(filename):\n",
    "  \"\"\"Extract the first file enclosed in a zip file as a list of words\"\"\"\n",
    "\n",
    "  with open(filename,'r') as f:\n",
    "    data = []\n",
    "    file_string = f.read()\n",
    "    file_string = preprocess_text(file_string)\n",
    "    file_string = file_string.split(' ')\n",
    "    data.extend(file_string)\n",
    "  return data\n",
    "  \n",
    "words = read_data('pets.txt')\n",
    "print('Data size %d' % len(words))\n",
    "print('Example words (start): ',words[:10])\n",
    "print('Example words (end): ',words[-10:])"
   ]
  },
  {
   "cell_type": "code",
   "execution_count": 35,
   "metadata": {},
   "outputs": [
    {
     "name": "stdout",
     "output_type": "stream",
     "text": [
      "Most common words (+UNK) [['UNK', 9628], ('the', 1142), ('of', 765), ('and', 731), ('to', 569)]\n",
      "Sample data [7, 5, 0, 18, 2, 5, 0, 0, 14, 5]\n",
      "Vocabulary size:  311\n"
     ]
    }
   ],
   "source": [
    "vocabulary_size = 0\n",
    "def build_dataset(words):\n",
    "  global vocabulary_size\n",
    "\n",
    "  count = [['UNK', -1]]\n",
    "  # Gets words sorted by frequency\n",
    "  count.extend(collections.Counter(words).most_common())\n",
    "  dictionary = dict()\n",
    "\n",
    "  # Create an ID for each unique word\n",
    "  for word, c in count:\n",
    "    if c<10:\n",
    "        continue\n",
    "    dictionary[word] = len(dictionary)\n",
    "    vocabulary_size += 1\n",
    "    \n",
    "  data = list()\n",
    "  unk_count = 0\n",
    "  \n",
    "  for word in words:\n",
    "    if word in dictionary:\n",
    "      index = dictionary[word]\n",
    "    else:\n",
    "      index = 0  \n",
    "      unk_count = unk_count + 1\n",
    "    data.append(index)\n",
    "    \n",
    "  count[0][1] = unk_count\n",
    "  \n",
    "  reverse_dictionary = dict(zip(dictionary.values(), dictionary.keys())) \n",
    "    \n",
    "  return data, count, dictionary, reverse_dictionary\n",
    "\n",
    "data, count, dictionary, reverse_dictionary = build_dataset(words)\n",
    "print('Most common words (+UNK)', count[:5])\n",
    "print('Sample data', data[:10])\n",
    "print('Vocabulary size: ',vocabulary_size)"
   ]
  },
  {
   "cell_type": "markdown",
   "metadata": {},
   "source": [
    "## Generating data\n",
    "Here we generate a batch of data as explained earlier in the [blog post](http://www.thushv.com/natural_language_processing/light-on-math-machine-learning-intuitive-guide-to-understanding-word2vec). "
   ]
  },
  {
   "cell_type": "code",
   "execution_count": 51,
   "metadata": {},
   "outputs": [
    {
     "name": "stdout",
     "output_type": "stream",
     "text": [
      "data: ['', 'a', 'the', 'cat', 'and', 'a', 'the', 'the']\n",
      "\n",
      "with window_size = 2:\n",
      "    batch: ['the', 'the', 'the', 'the', 'cat', 'cat', 'cat', 'cat']\n",
      "    labels: ['', 'a', 'cat', 'and', 'a', 'the', 'and', 'a']\n"
     ]
    }
   ],
   "source": [
    "data_index = 0\n",
    "\n",
    "def generate_batch(batch_size, window_size):\n",
    "  global data_index \n",
    "    \n",
    "  # two numpy arras to hold target words (batch)\n",
    "  # and context words (labels)\n",
    "  batch = np.ndarray(shape=(batch_size), dtype=np.int32)\n",
    "  labels = np.ndarray(shape=(batch_size, 1), dtype=np.int32)\n",
    "    \n",
    "  # span defines the total window size\n",
    "  span = 2 * window_size + 1 \n",
    "    \n",
    "  # The buffer holds the data contained within the span\n",
    "  queue = collections.deque(maxlen=span)\n",
    "  \n",
    "  # Fill the buffer and update the data_index\n",
    "  for _ in range(span):\n",
    "    queue.append(data[data_index])\n",
    "    data_index = (data_index + 1) % len(data)\n",
    "  \n",
    "\n",
    "  for i in range(batch_size // (2*window_size)):\n",
    "    k=0\n",
    "    # Avoid the target word itself as a prediction\n",
    "    for j in list(range(window_size))+list(range(window_size+1,2*window_size+1)):\n",
    "      batch[i * (2*window_size) + k] = queue[window_size]\n",
    "      labels[i * (2*window_size) + k, 0] = queue[j]\n",
    "      k += 1 \n",
    "    \n",
    "    # Everytime we read num_samples data points, update the queue\n",
    "    queue.append(data[data_index])\n",
    "    \n",
    "    # If end is reached, circle back to the beginning\n",
    "    data_index = (data_index + np.random.randint(window_size)) % len(data)\n",
    "    \n",
    "  return batch, labels\n",
    "\n",
    "print('data:', [reverse_dictionary[di] for di in data[:8]])\n",
    "\n",
    "data_index = 0\n",
    "batch, labels = generate_batch(batch_size=8, window_size=2)\n",
    "print('\\nwith window_size = %d:' %2)\n",
    "print('    batch:', [reverse_dictionary[bi] for bi in batch])\n",
    "print('    labels:', [reverse_dictionary[li] for li in labels.reshape(8)])"
   ]
  },
  {
   "cell_type": "markdown",
   "metadata": {},
   "source": [
    "## Defining the model\n",
    "\n",
    "Here we define the followings:\n",
    "* Hyperparameters (e.g. `batch_size`)\n",
    "* Input and output placeholders \n",
    "* Model parameter: the embedding layer\n",
    "* Model parameter: the neural network (a softmax layer)\n",
    "* Loss of the model \n",
    "* Optimizer for the loss function"
   ]
  },
  {
   "cell_type": "code",
   "execution_count": 52,
   "metadata": {},
   "outputs": [],
   "source": [
    "batch_size = 128 \n",
    "embedding_size = 64 \n",
    "window_size = 4 \n",
    "\n",
    "num_sampled = 32 # Number of negative examples to sample.\n",
    "\n",
    "tf.reset_default_graph()\n",
    "\n",
    "# Training input data (target word IDs).\n",
    "train_dataset = tf.placeholder(tf.int32, shape=[batch_size])\n",
    "# Training input label data (context word IDs)\n",
    "train_labels = tf.placeholder(tf.int32, shape=[batch_size, 1])\n",
    "\n",
    "################################################\n",
    "#            Model variables                   #\n",
    "################################################\n",
    "\n",
    "# Embedding layer\n",
    "embeddings = tf.Variable(tf.random_uniform([vocabulary_size, embedding_size], -1.0, 1.0))\n",
    "\n",
    "# Neural network weights and biases\n",
    "softmax_weights = tf.Variable(\n",
    "    tf.truncated_normal([vocabulary_size, embedding_size],\n",
    "                        stddev=0.1 / math.sqrt(embedding_size))\n",
    ")\n",
    "softmax_biases = tf.Variable(tf.random_uniform([vocabulary_size],-0.01,0.01))\n",
    "\n",
    "# Look up embeddings for a batch of inputs.\n",
    "embed = tf.nn.embedding_lookup(embeddings, train_dataset)\n",
    "#embed = tf.nn.dropout(embed, keep_prob=0.8)\n",
    "################################################\n",
    "#            Computes loss                     #\n",
    "################################################\n",
    "loss = tf.reduce_mean(\n",
    "    tf.nn.sampled_softmax_loss(\n",
    "        weights=softmax_weights, biases=softmax_biases, inputs=embed,\n",
    "        labels=train_labels, num_sampled=num_sampled, num_classes=vocabulary_size)\n",
    ")\n",
    "\n",
    "################################################\n",
    "#            Optimization                      #\n",
    "################################################\n",
    "optimizer = tf.train.AdamOptimizer(0.001).minimize(loss)\n",
    "\n",
    "################################################\n",
    "#            For evaluation                    #\n",
    "################################################\n",
    "norm = tf.sqrt(tf.reduce_sum(tf.square(embeddings), 1, keepdims=True))\n",
    "normalized_embeddings = embeddings / norm"
   ]
  },
  {
   "cell_type": "markdown",
   "metadata": {},
   "source": [
    "## Running skip-gram\n",
    "We optimize the define model for a pre-defined number of steps and save the learnt embeddings to a Python variable"
   ]
  },
  {
   "cell_type": "code",
   "execution_count": 54,
   "metadata": {},
   "outputs": [
    {
     "name": "stderr",
     "output_type": "stream",
     "text": [
      "c:\\users\\thushan\\documents\\python_virtualenvs\\tensorflow_venv\\lib\\site-packages\\tensorflow\\python\\client\\session.py:1711: UserWarning: An interactive session is already active. This can cause out-of-memory errors in some cases. You must explicitly call `InteractiveSession.close()` to release resources held by the other session(s).\n",
      "  warnings.warn('An interactive session is already active. This can '\n"
     ]
    },
    {
     "name": "stdout",
     "output_type": "stream",
     "text": [
      "Initialized\n",
      "Average loss at step 5000: 2.733738\n",
      "Average loss at step 10000: 2.506902\n",
      "Average loss at step 15000: 2.487006\n",
      "Average loss at step 20000: 2.465725\n",
      "Average loss at step 25000: 2.456681\n",
      "Average loss at step 30000: 2.461687\n",
      "Average loss at step 35000: 2.449213\n",
      "Average loss at step 40000: 2.449819\n",
      "Average loss at step 45000: 2.438913\n",
      "Average loss at step 50000: 2.437386\n",
      "Average loss at step 55000: 2.432998\n",
      "Average loss at step 60000: 2.429778\n",
      "Average loss at step 65000: 2.435080\n",
      "Average loss at step 70000: 2.429206\n",
      "Average loss at step 75000: 2.430723\n",
      "Average loss at step 80000: 2.428075\n",
      "Average loss at step 85000: 2.427969\n",
      "Average loss at step 90000: 2.425614\n",
      "Average loss at step 95000: 2.422952\n",
      "Average loss at step 100000: 2.424210\n",
      "Average loss at step 105000: 2.424904\n",
      "Average loss at step 110000: 2.426657\n",
      "Average loss at step 115000: 2.426729\n",
      "Average loss at step 120000: 2.413245\n",
      "Average loss at step 125000: 2.419772\n",
      "Average loss at step 130000: 2.422087\n",
      "Average loss at step 135000: 2.416791\n",
      "Average loss at step 140000: 2.411189\n",
      "Average loss at step 145000: 2.419627\n",
      "Average loss at step 150000: 2.419634\n",
      "Average loss at step 155000: 2.410225\n",
      "Average loss at step 160000: 2.414532\n",
      "Average loss at step 165000: 2.419405\n",
      "Average loss at step 170000: 2.407144\n",
      "Average loss at step 175000: 2.409694\n",
      "Average loss at step 180000: 2.408418\n",
      "Average loss at step 185000: 2.425591\n",
      "Average loss at step 190000: 2.406886\n",
      "Average loss at step 195000: 2.404542\n",
      "Average loss at step 200000: 2.409172\n",
      "Average loss at step 205000: 2.412987\n",
      "Average loss at step 210000: 2.407596\n",
      "Average loss at step 215000: 2.408326\n",
      "Average loss at step 220000: 2.410260\n",
      "Average loss at step 225000: 2.410598\n",
      "Average loss at step 230000: 2.410446\n",
      "Average loss at step 235000: 2.414872\n",
      "Average loss at step 240000: 2.412652\n",
      "Average loss at step 245000: 2.420230\n",
      "Average loss at step 250000: 2.408468\n"
     ]
    }
   ],
   "source": [
    "num_steps = 250001\n",
    "\n",
    "session = tf.InteractiveSession()\n",
    "\n",
    "# Initialize the variables in the graph\n",
    "tf.global_variables_initializer().run()\n",
    "print('Initialized')\n",
    "average_loss = 0\n",
    "\n",
    "for step in range(num_steps):\n",
    "\n",
    "    # Generate a single batch of data\n",
    "    batch_data, batch_labels = generate_batch(\n",
    "      batch_size, window_size)\n",
    "\n",
    "    # Optimize the embedding layer and neural network\n",
    "    # compute loss\n",
    "    feed_dict = {train_dataset : batch_data, train_labels : batch_labels}\n",
    "    _, l = session.run([optimizer, loss], feed_dict=feed_dict)\n",
    "\n",
    "    # Update the average loss variable\n",
    "    average_loss += l\n",
    "\n",
    "    if (step+1) % 5000 == 0:\n",
    "      if step > 0:\n",
    "        average_loss = average_loss / 5000\n",
    "\n",
    "      print('Average loss at step %d: %f' % (step+1, average_loss))\n",
    "      average_loss = 0\n",
    "\n",
    "sg_embeddings = normalized_embeddings.eval()\n",
    "session.close()\n"
   ]
  },
  {
   "cell_type": "markdown",
   "metadata": {},
   "source": [
    "## Visualizing word vectors\n",
    "Here we visualize the word vectors by means of the t-SNE dimensionality reduction technique."
   ]
  },
  {
   "cell_type": "code",
   "execution_count": null,
   "metadata": {
    "collapsed": true
   },
   "outputs": [],
   "source": [
    "tsne = TSNE(perplexity=5, n_components=2, init='pca', n_iter=5000)\n",
    "\n",
    "# get the T-SNE manifold\n",
    "two_d_embeddings = tsne.fit_transform(sg_embeddings)"
   ]
  },
  {
   "cell_type": "code",
   "execution_count": 60,
   "metadata": {},
   "outputs": [
    {
     "data": {
      "image/png": "[encoded data removed]",
      "text/plain": [
       "<matplotlib.figure.Figure at 0x20904aeeba8>"
      ]
     },
     "metadata": {},
     "output_type": "display_data"
    }
   ],
   "source": [
    "selected_words = ['feline','cat','dog','canary','male','female','animal','pet','wolf','cats','dogs','wildcat','kittens']\n",
    "\n",
    "words = [reverse_dictionary[i] for i in np.arange(vocabulary_size)]\n",
    "\n",
    "pylab.figure(figsize=(15,15))\n",
    "# plot all the embeddings and their corresponding words\n",
    "for i, label in enumerate(words):\n",
    "    x, y = two_d_embeddings[i,:]\n",
    "    pylab.scatter(x, y, c='darkgray')   \n",
    "    if label in selected_words:\n",
    "        pylab.annotate(label, xy=(x, y), xytext=(5, 2), textcoords='offset points',\n",
    "                       ha='right', va='bottom',fontsize=10)\n",
    "        \n",
    "pylab.show()"
   ]
  },
  {
   "cell_type": "code",
   "execution_count": null,
   "metadata": {
    "collapsed": true
   },
   "outputs": [],
   "source": []
  }
 ],
 "metadata": {
  "kernelspec": {
   "display_name": "Python 3",
   "language": "python",
   "name": "python3"
  },
  "language_info": {
   "codemirror_mode": {
    "name": "ipython",
    "version": 3
   },
   "file_extension": ".py",
   "mimetype": "text/x-python",
   "name": "python",
   "nbconvert_exporter": "python",
   "pygments_lexer": "ipython3",
   "version": "3.5.2"
  }
 },
 "nbformat": 4,
 "nbformat_minor": 2
}
